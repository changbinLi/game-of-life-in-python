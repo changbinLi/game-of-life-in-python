{
 "cells": [
  {
   "cell_type": "markdown",
   "metadata": {},
   "source": [
    "## World\n",
    "  - __init__ 输入一个set{(1,2),(2,3),(3,1)}给定一个世界的初始状态，给定几个初始的活的cell。\n",
    "  - neighber(cell), 输出一个cell的所有邻居。\n",
    "  - neighber_counts(World), 输出一个世界中活着的cell的所有邻居及个数（也就是周围有活着的cell的位置和个数）。\n",
    "  - next_generation(Wolrd), 输出下一个状态活着的cell集合\n",
    "  - picture(), LIVE-@， EMPTY-. PIC-‘’，\n",
    "  - run(times, range_row, range_col )"
   ]
  },
  {
   "cell_type": "code",
   "execution_count": 41,
   "metadata": {},
   "outputs": [],
   "source": [
    "from collections import Counter\n",
    "from IPython.display import clear_output, display_html\n",
    "import time\n",
    "class World:\n",
    "    def __init__(self, cells):\n",
    "        self.cells = cells\n",
    "    \n",
    "    def neighbers(self, cell):\n",
    "        (x,y) = (cell[0], cell[1])\n",
    "        return { (x-1, y-1), (x, y-1), (x+1, y-1),\n",
    "                 (x-1, y),           (x+1, y),\n",
    "                 (x-1, y+1), (x, y+1), (x+1, y+1)\n",
    "                }\n",
    "    def neighber_counts(self):\n",
    "        return Counter(nb for cell in self.cells for nb in self.neighbers(cell))\n",
    "    def next_generation(self):\n",
    "        possible_cells = counts = self.neighber_counts()\n",
    "        return {\n",
    "            cell for cell in possible_cells if (counts[cell] == 3 or (counts[cell] == 2 and cell in self.cells))\n",
    "        }\n",
    "    def refresh_cells(self):\n",
    "        self.cells = self.next_generation() if self.next_generation() != None else ''\n",
    "    def picture(self, range_row, range_col):\n",
    "        LIVE = '@'\n",
    "        EMPTY = '.'\n",
    "        PIC = ' '\n",
    "        def row(y):\n",
    "            return PIC.join( LIVE if ((x, y) in self.cells) else EMPTY for x in range_row)\n",
    "        return '\\n'.join(row(y) for y in range_col)\n",
    "    def pre(self, text):\n",
    "        return '<pre>' + text + '</pre>'\n",
    "    def run(self, times, range_row, range_col, pause = 0.5):\n",
    "        for g in range(times+1):\n",
    "            clear_output()\n",
    "            display_html('Generation {}, Population {} \\n {}'\n",
    "                         .format(g, len(self.cells), self.pre(self.picture( range_row, range_col))), raw = True\n",
    "                        )\n",
    "           # print('Generation {%d}, Population {%d}\\n ' %( g, len(self.cells)))\n",
    "           # print( self.picture( range_row, range_col))\n",
    "            time.sleep(pause)\n",
    "            self.refresh_cells()\n",
    "            "
   ]
  },
  {
   "cell_type": "code",
   "execution_count": 42,
   "metadata": {},
   "outputs": [],
   "source": [
    "LIVE = '@'\n",
    "def input_shape(shape, offset = (3,3)):\n",
    "        cells = {\n",
    "            (x,y) for (y, row) in enumerate(shape.splitlines())\n",
    "            for (x,c) in enumerate(row.replace(' ',''))\n",
    "            if c == LIVE\n",
    "        }\n",
    "        return move(cells, offset)\n",
    "def move(cells, offset):\n",
    "        (dx, dy) = offset\n",
    "        return {(x + dx, y + dy) for (x,y) in cells}"
   ]
  },
  {
   "cell_type": "code",
   "execution_count": 43,
   "metadata": {},
   "outputs": [
    {
     "name": "stdout",
     "output_type": "stream",
     "text": [
      "{(37, 10), (42, 10), (11, 10), (16, 10), (12, 10), (22, 10), (24, 10), (14, 10), (48, 10), (23, 10), (17, 10), (28, 10), (38, 10), (40, 10), (15, 10), (20, 10), (30, 10), (39, 10), (44, 10), (13, 10), (18, 10), (36, 10), (46, 10), (29, 10), (47, 10), (41, 10), (21, 10), (45, 10)}\n"
     ]
    }
   ],
   "source": [
    "blinker    = input_shape('@@@')\n",
    "block      = input_shape('@@\\n@@')\n",
    "beacon     = block | move(block, (2,2))\n",
    "toad       = input_shape('.@@@\\n@@@.')\n",
    "glider     = input_shape('.@.\\n..@\\n@@@')\n",
    "rpentomino = input_shape('.@@\\n@@.\\n.@.', (36,20))\n",
    "line       = input_shape('.@@@@@@@@.@@@@@...@@@.....@@@@@@@.@@@@@',(10,10))\n",
    "growth     = input_shape('@@@.@\\n@\\n...@@\\n.@@.@\\n@.@.@',(10,10))\n",
    "print(line)"
   ]
  },
  {
   "cell_type": "code",
   "execution_count": 45,
   "metadata": {},
   "outputs": [
    {
     "data": {
      "text/html": [
       "Generation 11, Population 3 \n",
       " <pre>. . . . . . . . . . . . . . . . . . . . . . . . . . . . . . . . . . . . . . . . . . . . . . . . . . . . . . . . . . . .\n",
       ". . . . . . . . . . . . . . . . . . . . . . . . . . . . . . . . . . . . . . . . . . . . . . . . . . . . . . . . . . . .\n",
       ". . . . @ . . . . . . . . . . . . . . . . . . . . . . . . . . . . . . . . . . . . . . . . . . . . . . . . . . . . . . .\n",
       ". . . . @ . . . . . . . . . . . . . . . . . . . . . . . . . . . . . . . . . . . . . . . . . . . . . . . . . . . . . . .\n",
       ". . . . @ . . . . . . . . . . . . . . . . . . . . . . . . . . . . . . . . . . . . . . . . . . . . . . . . . . . . . . .\n",
       ". . . . . . . . . . . . . . . . . . . . . . . . . . . . . . . . . . . . . . . . . . . . . . . . . . . . . . . . . . . .\n",
       ". . . . . . . . . . . . . . . . . . . . . . . . . . . . . . . . . . . . . . . . . . . . . . . . . . . . . . . . . . . .</pre>"
      ]
     },
     "metadata": {},
     "output_type": "display_data"
    }
   ],
   "source": [
    "w1 = World(blinker)\n",
    "w1.run(11, range(60), range(7))"
   ]
  },
  {
   "cell_type": "code",
   "execution_count": null,
   "metadata": {},
   "outputs": [],
   "source": [
    "cells = {(1,2), (2,3), (2,2),(0,0)}\n",
    "w1 = World(cells)\n",
    "#print(w1.picture(range(5), range(5)))\n",
    "w1.run(10, range(10),range(10))"
   ]
  }
 ],
 "metadata": {
  "kernelspec": {
   "display_name": "Python 3",
   "language": "python",
   "name": "python3"
  },
  "language_info": {
   "codemirror_mode": {
    "name": "ipython",
    "version": 3
   },
   "file_extension": ".py",
   "mimetype": "text/x-python",
   "name": "python",
   "nbconvert_exporter": "python",
   "pygments_lexer": "ipython3",
   "version": "3.6.4"
  }
 },
 "nbformat": 4,
 "nbformat_minor": 2
}
